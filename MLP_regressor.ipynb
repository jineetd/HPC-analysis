{
  "nbformat": 4,
  "nbformat_minor": 0,
  "metadata": {
    "colab": {
      "name": "MLP_regressor.ipynb",
      "provenance": [],
      "include_colab_link": true
    },
    "kernelspec": {
      "name": "python3",
      "display_name": "Python 3"
    },
    "accelerator": "GPU"
  },
  "cells": [
    {
      "cell_type": "markdown",
      "metadata": {
        "id": "view-in-github",
        "colab_type": "text"
      },
      "source": [
        "<a href=\"https://colab.research.google.com/github/jineetd/HPC-analysis/blob/dev/MLP_regressor.ipynb\" target=\"_parent\"><img src=\"https://colab.research.google.com/assets/colab-badge.svg\" alt=\"Open In Colab\"/></a>"
      ]
    },
    {
      "cell_type": "code",
      "metadata": {
        "id": "EB1JevrYShj5",
        "colab_type": "code",
        "colab": {}
      },
      "source": [
        "import pandas as pd\n",
        "import numpy as np"
      ],
      "execution_count": 0,
      "outputs": []
    },
    {
      "cell_type": "code",
      "metadata": {
        "id": "tsiX_UMVSwNQ",
        "colab_type": "code",
        "outputId": "eb94a253-5d55-4de3-e8ab-f1fa67ba7cf5",
        "colab": {
          "base_uri": "https://localhost:8080/",
          "height": 104
        }
      },
      "source": [
        "df=pd.read_csv('/content/Power Model Inputs (964 datasets).csv')\n",
        "print(df.columns)"
      ],
      "execution_count": 2,
      "outputs": [
        {
          "output_type": "stream",
          "text": [
            "Index(['m', 'Benchmark', 'Kernel Name', 'C/M', 'reg_thread', 'Smem_pblock',\n",
            "       'No_of_cmpinst', 'No_of_globinst', 'No_of_sharinst', 'Miscelleneous ',\n",
            "       'No_of_blocks(Grid Size)', 'Threads_pbl (Block Size)', 'Occupancy',\n",
            "       'Power', 'Dwarf Type', 'Unnamed: 15'],\n",
            "      dtype='object')\n"
          ],
          "name": "stdout"
        }
      ]
    },
    {
      "cell_type": "code",
      "metadata": {
        "id": "vn42gpDpSyd9",
        "colab_type": "code",
        "colab": {}
      },
      "source": [
        "df1=df.drop(['m','Benchmark','Kernel Name','C/M','Dwarf Type','Unnamed: 15'],axis=1)"
      ],
      "execution_count": 0,
      "outputs": []
    },
    {
      "cell_type": "code",
      "metadata": {
        "id": "bozTc8tqS0_N",
        "colab_type": "code",
        "colab": {}
      },
      "source": [
        "df2=df1.iloc[0:963,:]\n",
        "print(df2.shape)\n",
        "df2"
      ],
      "execution_count": 0,
      "outputs": []
    },
    {
      "cell_type": "code",
      "metadata": {
        "id": "8rHKvIXhS3W5",
        "colab_type": "code",
        "outputId": "4088c469-038f-49b1-b173-ea4fcf488def",
        "colab": {
          "base_uri": "https://localhost:8080/",
          "height": 34
        }
      },
      "source": [
        "y_train=df2['Power']\n",
        "y_train=np.array(y_train).astype('float32')\n",
        "y_train.shape"
      ],
      "execution_count": 5,
      "outputs": [
        {
          "output_type": "execute_result",
          "data": {
            "text/plain": [
              "(963,)"
            ]
          },
          "metadata": {
            "tags": []
          },
          "execution_count": 5
        }
      ]
    },
    {
      "cell_type": "code",
      "metadata": {
        "id": "peEmSGaLTJx-",
        "colab_type": "code",
        "outputId": "fb2169c5-81f5-47c4-bc32-24b606ddad63",
        "colab": {
          "base_uri": "https://localhost:8080/",
          "height": 243
        }
      },
      "source": [
        "x_train=df2.iloc[:,0:9]\n",
        "x_train=np.array(x_train).astype('float32')\n",
        "x_train"
      ],
      "execution_count": 6,
      "outputs": [
        {
          "output_type": "execute_result",
          "data": {
            "text/plain": [
              "array([[1.200e+01, 0.000e+00, 1.400e+01, ..., 6.400e+01, 2.560e+02,\n",
              "        1.000e+00],\n",
              "       [1.200e+01, 0.000e+00, 1.400e+01, ..., 1.280e+02, 2.560e+02,\n",
              "        1.000e+00],\n",
              "       [1.300e+01, 0.000e+00, 1.300e+01, ..., 1.024e+03, 1.600e+01,\n",
              "        2.500e-01],\n",
              "       ...,\n",
              "       [8.000e+00, 0.000e+00, 0.000e+00, ..., 1.024e+03, 2.560e+02,\n",
              "        1.000e+00],\n",
              "       [8.000e+00, 0.000e+00, 0.000e+00, ..., 1.024e+03, 1.024e+03,\n",
              "        1.000e+00],\n",
              "       [8.000e+00, 0.000e+00, 0.000e+00, ..., 1.024e+03, 3.200e+01,\n",
              "        2.500e-01]], dtype=float32)"
            ]
          },
          "metadata": {
            "tags": []
          },
          "execution_count": 6
        }
      ]
    },
    {
      "cell_type": "code",
      "metadata": {
        "id": "ExFikii4Ux0i",
        "colab_type": "code",
        "outputId": "19c40ddf-10cf-4a62-c9ee-08c8216b0f2b",
        "colab": {
          "base_uri": "https://localhost:8080/",
          "height": 34
        }
      },
      "source": [
        "from sklearn import preprocessing\n",
        "min_max_scaler = preprocessing.MinMaxScaler()\n",
        "X_scale = min_max_scaler.fit_transform(x_train)\n",
        "print(X_scale.shape)"
      ],
      "execution_count": 7,
      "outputs": [
        {
          "output_type": "stream",
          "text": [
            "(963, 9)\n"
          ],
          "name": "stdout"
        }
      ]
    },
    {
      "cell_type": "code",
      "metadata": {
        "id": "4dCe2n2hU21z",
        "colab_type": "code",
        "outputId": "f09c9f9a-2572-45f3-c2f2-13715ddc53c2",
        "colab": {
          "base_uri": "https://localhost:8080/",
          "height": 86
        }
      },
      "source": [
        "#splitting the data for training and validation test\n",
        "from sklearn.model_selection import train_test_split\n",
        "X_train, X_test, Y_train, Y_test = train_test_split(X_scale, y_train, test_size=0.2)\n",
        "print(X_train.shape)\n",
        "print(X_test.shape)\n",
        "print(Y_train.shape)\n",
        "print(Y_test.shape)\n"
      ],
      "execution_count": 8,
      "outputs": [
        {
          "output_type": "stream",
          "text": [
            "(770, 9)\n",
            "(193, 9)\n",
            "(770,)\n",
            "(193,)\n"
          ],
          "name": "stdout"
        }
      ]
    },
    {
      "cell_type": "code",
      "metadata": {
        "id": "Qopu77jvWkx7",
        "colab_type": "code",
        "outputId": "a0a71e4c-8729-40e7-9512-b18f802e0b46",
        "colab": {
          "base_uri": "https://localhost:8080/",
          "height": 139
        }
      },
      "source": [
        "from sklearn.neural_network import MLPClassifier\n",
        "clf = MLPClassifier(activation='tanh', alpha=1e-05, batch_size='auto',\n",
        "              beta_1=0.9, beta_2=0.999, early_stopping=False,\n",
        "              epsilon=1e-08, hidden_layer_sizes=(64,64,64,64),\n",
        "              learning_rate='constant', learning_rate_init=0.003,\n",
        "              max_iter=200, momentum=0.9, n_iter_no_change=10,\n",
        "              nesterovs_momentum=True, power_t=0.5, random_state=1,\n",
        "              shuffle=True, solver='lbfgs', tol=0.0001,\n",
        "              validation_fraction=0.1, verbose=False, warm_start=False)\n",
        "Y_train=Y_train.astype('float64')\n",
        "clf.fit(X_train,Y_train)"
      ],
      "execution_count": 11,
      "outputs": [
        {
          "output_type": "execute_result",
          "data": {
            "text/plain": [
              "MLPClassifier(activation='tanh', alpha=1e-05, batch_size='auto', beta_1=0.9,\n",
              "              beta_2=0.999, early_stopping=False, epsilon=1e-08,\n",
              "              hidden_layer_sizes=(64, 64, 64, 64), learning_rate='constant',\n",
              "              learning_rate_init=0.003, max_iter=200, momentum=0.9,\n",
              "              n_iter_no_change=10, nesterovs_momentum=True, power_t=0.5,\n",
              "              random_state=1, shuffle=True, solver='lbfgs', tol=0.0001,\n",
              "              validation_fraction=0.1, verbose=False, warm_start=False)"
            ]
          },
          "metadata": {
            "tags": []
          },
          "execution_count": 11
        }
      ]
    },
    {
      "cell_type": "code",
      "metadata": {
        "id": "jT9SbvZyYSp5",
        "colab_type": "code",
        "outputId": "77c1407f-ec95-476b-b1ee-4700c56067df",
        "colab": {
          "base_uri": "https://localhost:8080/",
          "height": 330
        }
      },
      "source": [
        "clf.predict(X_test)"
      ],
      "execution_count": 12,
      "outputs": [
        {
          "output_type": "execute_result",
          "data": {
            "text/plain": [
              "array([ 65.,  65., 107., 113., 118., 116.,  64.,  69., 125.,  53.,  65.,\n",
              "       117., 132.,  87.,  83., 112.,  57., 117.,  54.,  77., 125., 118.,\n",
              "        62., 115.,  56.,  64.,  83.,  78., 109., 139., 112.,  54., 117.,\n",
              "        65.,  80.,  74.,  70.,  64., 113.,  63., 117.,  64.,  78.,  56.,\n",
              "        55.,  64., 111.,  65.,  64.,  66., 118.,  74.,  56.,  55.,  65.,\n",
              "        64.,  69.,  62.,  95.,  68., 116.,  70., 117.,  71.,  87.,  64.,\n",
              "       110.,  65., 115., 115.,  64.,  70.,  88.,  63., 118.,  76.,  61.,\n",
              "       112., 107.,  62., 130., 125.,  67.,  64., 113.,  64.,  57.,  64.,\n",
              "        76.,  84.,  91., 117.,  62., 103.,  83., 113.,  62., 110., 118.,\n",
              "        74.,  65., 111.,  53., 118.,  91.,  53.,  80.,  66.,  65.,  90.,\n",
              "       113., 115.,  85.,  64., 113.,  56.,  56., 111., 110., 117., 104.,\n",
              "        77.,  76.,  77.,  54.,  71., 113.,  54.,  64., 117., 117.,  88.,\n",
              "        91.,  56.,  56.,  64.,  62.,  54.,  62.,  65.,  94.,  66.,  62.,\n",
              "        62., 111., 136., 117.,  60.,  64.,  53.,  77.,  69.,  63.,  55.,\n",
              "        61.,  66.,  64.,  55.,  70., 116., 122.,  56.,  57.,  54.,  64.,\n",
              "        64.,  83.,  76.,  49., 136.,  64., 125.,  76.,  77.,  56.,  76.,\n",
              "       103.,  70.,  64.,  62.,  90.,  63., 108., 105.,  65., 112.,  69.,\n",
              "       122.,  62.,  75.,  63.,  91.,  64.])"
            ]
          },
          "metadata": {
            "tags": []
          },
          "execution_count": 12
        }
      ]
    },
    {
      "cell_type": "code",
      "metadata": {
        "id": "ABfNdtLWYdJv",
        "colab_type": "code",
        "outputId": "bd471628-b544-40b8-870a-72476d88aee2",
        "colab": {
          "base_uri": "https://localhost:8080/",
          "height": 295
        }
      },
      "source": [
        "pred=clf.predict(X_test)\n",
        "import matplotlib.pyplot as plt\n",
        "plt.plot(pred,label='Predicted data')\n",
        "plt.plot(Y_test,label='Original data')\n",
        "plt.legend(loc='best')\n",
        "plt.ylabel('power')\n",
        "plt.xlabel('parameters')\n",
        "plt.title('HPC analysis')\n",
        "plt.show()"
      ],
      "execution_count": 13,
      "outputs": [
        {
          "output_type": "display_data",
          "data": {
            "image/png": "[encoded data removed]",
            "text/plain": [
              "<Figure size 432x288 with 1 Axes>"
            ]
          },
          "metadata": {
            "tags": []
          }
        }
      ]
    },
    {
      "cell_type": "code",
      "metadata": {
        "id": "lT8XsFHMYuKP",
        "colab_type": "code",
        "outputId": "82d696c1-ad51-421d-afcd-b01d113ae605",
        "colab": {
          "base_uri": "https://localhost:8080/",
          "height": 52
        }
      },
      "source": [
        "from sklearn.metrics import r2_score\n",
        "print(r2_score(Y_test,pred))\n",
        "\n",
        "from sklearn.metrics import mean_squared_error\n",
        "from math import sqrt\n",
        "\n",
        "rms = sqrt(mean_squared_error(Y_test,pred))\n",
        "print(rms)"
      ],
      "execution_count": 14,
      "outputs": [
        {
          "output_type": "stream",
          "text": [
            "0.116658968548496\n",
            "23.671733577100852\n"
          ],
          "name": "stdout"
        }
      ]
    }
  ]
}